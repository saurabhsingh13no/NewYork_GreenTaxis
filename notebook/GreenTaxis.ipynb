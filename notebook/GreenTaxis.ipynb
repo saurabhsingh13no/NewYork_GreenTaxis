{
 "cells": [
  {
   "cell_type": "markdown",
   "metadata": {},
   "source": [
    "<a href= \"http://www.nyc.gov/html/tlc/html/about/trip_record_data.shtml\">\n",
    "    <img src =\"../data/NY_Taxi.png\" height = \"300px\" width = \"300px\" align=\"right\"/>\n",
    "</a>\n",
    "# <center> Exploratory Data Analysis on Green Taxis </center>\n"
   ]
  },
  {
   "cell_type": "markdown",
   "metadata": {},
   "source": [
    "This notebook is an analysis on the data collected by the New York City Taxi and Limousine commission about <strong> \"Green\" </strong> Taxis. Green Taxis (as opposed to yellow ones) are taxis that are not allowed to pick up passengers inside of the densely populated areas of Manhattan\n",
    "\n",
    "The analysis is on the September 2015 dataset. Link to download dataset can be found [here](https://s3.amazonaws.com/nyc-tlc/trip+data/green_tripdata_2015-09.csv)\n",
    "\n",
    "Let's start the analysis by importing the necessary python modules for assitance."
   ]
  },
  {
   "cell_type": "markdown",
   "metadata": {},
   "source": [
    "## Importing libraries for analysis\n",
    "\n",
    "<strong>Note: </strong> Be sure to install these python libraries before importing from PyPI using pip. General command for downloading and installing 'requests' library (for e.g) would be:\n",
    "\n",
    "```shell\n",
    "$ pip install requests\n",
    "```"
   ]
  },
  {
   "cell_type": "code",
   "execution_count": 22,
   "metadata": {
    "collapsed": true
   },
   "outputs": [],
   "source": [
    "import requests # required to download csv file from the URL\n",
    "import pandas as pd # used for data analysis\n",
    "from six.moves.urllib.request import urlretrieve # used for csv file download\n",
    "import os # to check for already existing file on the disk\n",
    "import matplotlib.pyplot as plt # used for plotting histograms and graph"
   ]
  },
  {
   "cell_type": "markdown",
   "metadata": {},
   "source": [
    "## Global Variables\n",
    "\n",
    "Defining some global variables to be used in the code. This technique of centralized decleration for all the variables provides the flexibility of code modulation in future"
   ]
  },
  {
   "cell_type": "code",
   "execution_count": 249,
   "metadata": {
    "collapsed": true
   },
   "outputs": [],
   "source": [
    "CSV_DATA_URL = \"https://s3.amazonaws.com/nyc-tlc/trip+data/green_tripdata_2015-09.csv\"\n",
    "DEST_FILENAME = \"../data/green.csv\"\n",
    "X_LABEL_HIST = \"Distance covered by Green Taxis(miles)\"    \n",
    "Y_LABEL_HIST = \"Number of Trips\"\n",
    "TITLE_HIST   = \"Histogram of Trip_distance by Green Taxis\"\n",
    "PICKUP_TIME_COLUMN = \"lpep_pickup_datetime\"\n",
    "TRIP_DISTANCE_COLUMN = \"Trip_distance\"\n",
    "MEAN_TRIP_DISTANCE_BY_HOUR  = \"meanTripDistByHour\"\n",
    "MEDIAN_TRIP_DISTANCE_BY_HOUR = \"medianTripDistByHour\"\n",
    "TITLE_MEAN_MEDIAN= \"Mean v/s Median Trip_distance grouped by hour\"\n",
    "XLabel_MEAN_MEDIAN = \"HOURS\"\n",
    "YLabel_MEAN_MEDIAN = \"Trip Distance (miles)\"\n",
    "RateCodeID = \"RateCodeID\""
   ]
  },
  {
   "cell_type": "markdown",
   "metadata": {},
   "source": [
    "## Downloading the data\n",
    "\n",
    "Downloading the csv file related to green taxis information from amazon S3. Be sure to check for working internet connection before running the below cell."
   ]
  },
  {
   "cell_type": "code",
   "execution_count": 168,
   "metadata": {},
   "outputs": [
    {
     "name": "stdout",
     "output_type": "stream",
     "text": [
      "File already present at ../data/green.csv\n",
      "\n",
      "Sample of the data : \n"
     ]
    },
    {
     "data": {
      "text/html": [
       "<div>\n",
       "<style>\n",
       "    .dataframe thead tr:only-child th {\n",
       "        text-align: right;\n",
       "    }\n",
       "\n",
       "    .dataframe thead th {\n",
       "        text-align: left;\n",
       "    }\n",
       "\n",
       "    .dataframe tbody tr th {\n",
       "        vertical-align: top;\n",
       "    }\n",
       "</style>\n",
       "<table border=\"1\" class=\"dataframe\">\n",
       "  <thead>\n",
       "    <tr style=\"text-align: right;\">\n",
       "      <th></th>\n",
       "      <th>VendorID</th>\n",
       "      <th>lpep_pickup_datetime</th>\n",
       "      <th>Lpep_dropoff_datetime</th>\n",
       "      <th>Store_and_fwd_flag</th>\n",
       "      <th>RateCodeID</th>\n",
       "      <th>Pickup_longitude</th>\n",
       "      <th>Pickup_latitude</th>\n",
       "      <th>Dropoff_longitude</th>\n",
       "      <th>Dropoff_latitude</th>\n",
       "      <th>Passenger_count</th>\n",
       "      <th>...</th>\n",
       "      <th>Fare_amount</th>\n",
       "      <th>Extra</th>\n",
       "      <th>MTA_tax</th>\n",
       "      <th>Tip_amount</th>\n",
       "      <th>Tolls_amount</th>\n",
       "      <th>Ehail_fee</th>\n",
       "      <th>improvement_surcharge</th>\n",
       "      <th>Total_amount</th>\n",
       "      <th>Payment_type</th>\n",
       "      <th>Trip_type</th>\n",
       "    </tr>\n",
       "  </thead>\n",
       "  <tbody>\n",
       "    <tr>\n",
       "      <th>0</th>\n",
       "      <td>2</td>\n",
       "      <td>2015-09-01 00:02:34</td>\n",
       "      <td>2015-09-01 00:02:38</td>\n",
       "      <td>N</td>\n",
       "      <td>5</td>\n",
       "      <td>-73.979485</td>\n",
       "      <td>40.684956</td>\n",
       "      <td>-73.979431</td>\n",
       "      <td>40.685020</td>\n",
       "      <td>1</td>\n",
       "      <td>...</td>\n",
       "      <td>7.8</td>\n",
       "      <td>0.0</td>\n",
       "      <td>0.0</td>\n",
       "      <td>1.95</td>\n",
       "      <td>0.0</td>\n",
       "      <td>NaN</td>\n",
       "      <td>0.0</td>\n",
       "      <td>9.75</td>\n",
       "      <td>1</td>\n",
       "      <td>2.0</td>\n",
       "    </tr>\n",
       "    <tr>\n",
       "      <th>1</th>\n",
       "      <td>2</td>\n",
       "      <td>2015-09-01 00:04:20</td>\n",
       "      <td>2015-09-01 00:04:24</td>\n",
       "      <td>N</td>\n",
       "      <td>5</td>\n",
       "      <td>-74.010796</td>\n",
       "      <td>40.912216</td>\n",
       "      <td>-74.010780</td>\n",
       "      <td>40.912212</td>\n",
       "      <td>1</td>\n",
       "      <td>...</td>\n",
       "      <td>45.0</td>\n",
       "      <td>0.0</td>\n",
       "      <td>0.0</td>\n",
       "      <td>0.00</td>\n",
       "      <td>0.0</td>\n",
       "      <td>NaN</td>\n",
       "      <td>0.0</td>\n",
       "      <td>45.00</td>\n",
       "      <td>1</td>\n",
       "      <td>2.0</td>\n",
       "    </tr>\n",
       "    <tr>\n",
       "      <th>2</th>\n",
       "      <td>2</td>\n",
       "      <td>2015-09-01 00:01:50</td>\n",
       "      <td>2015-09-01 00:04:24</td>\n",
       "      <td>N</td>\n",
       "      <td>1</td>\n",
       "      <td>-73.921410</td>\n",
       "      <td>40.766708</td>\n",
       "      <td>-73.914413</td>\n",
       "      <td>40.764687</td>\n",
       "      <td>1</td>\n",
       "      <td>...</td>\n",
       "      <td>4.0</td>\n",
       "      <td>0.5</td>\n",
       "      <td>0.5</td>\n",
       "      <td>0.50</td>\n",
       "      <td>0.0</td>\n",
       "      <td>NaN</td>\n",
       "      <td>0.3</td>\n",
       "      <td>5.80</td>\n",
       "      <td>1</td>\n",
       "      <td>1.0</td>\n",
       "    </tr>\n",
       "    <tr>\n",
       "      <th>3</th>\n",
       "      <td>2</td>\n",
       "      <td>2015-09-01 00:02:36</td>\n",
       "      <td>2015-09-01 00:06:42</td>\n",
       "      <td>N</td>\n",
       "      <td>1</td>\n",
       "      <td>-73.921387</td>\n",
       "      <td>40.766678</td>\n",
       "      <td>-73.931427</td>\n",
       "      <td>40.771584</td>\n",
       "      <td>1</td>\n",
       "      <td>...</td>\n",
       "      <td>5.0</td>\n",
       "      <td>0.5</td>\n",
       "      <td>0.5</td>\n",
       "      <td>0.00</td>\n",
       "      <td>0.0</td>\n",
       "      <td>NaN</td>\n",
       "      <td>0.3</td>\n",
       "      <td>6.30</td>\n",
       "      <td>2</td>\n",
       "      <td>1.0</td>\n",
       "    </tr>\n",
       "    <tr>\n",
       "      <th>4</th>\n",
       "      <td>2</td>\n",
       "      <td>2015-09-01 00:00:14</td>\n",
       "      <td>2015-09-01 00:04:20</td>\n",
       "      <td>N</td>\n",
       "      <td>1</td>\n",
       "      <td>-73.955482</td>\n",
       "      <td>40.714046</td>\n",
       "      <td>-73.944412</td>\n",
       "      <td>40.714729</td>\n",
       "      <td>1</td>\n",
       "      <td>...</td>\n",
       "      <td>5.0</td>\n",
       "      <td>0.5</td>\n",
       "      <td>0.5</td>\n",
       "      <td>0.00</td>\n",
       "      <td>0.0</td>\n",
       "      <td>NaN</td>\n",
       "      <td>0.3</td>\n",
       "      <td>6.30</td>\n",
       "      <td>2</td>\n",
       "      <td>1.0</td>\n",
       "    </tr>\n",
       "  </tbody>\n",
       "</table>\n",
       "<p>5 rows × 21 columns</p>\n",
       "</div>"
      ],
      "text/plain": [
       "   VendorID lpep_pickup_datetime Lpep_dropoff_datetime Store_and_fwd_flag  \\\n",
       "0         2  2015-09-01 00:02:34   2015-09-01 00:02:38                  N   \n",
       "1         2  2015-09-01 00:04:20   2015-09-01 00:04:24                  N   \n",
       "2         2  2015-09-01 00:01:50   2015-09-01 00:04:24                  N   \n",
       "3         2  2015-09-01 00:02:36   2015-09-01 00:06:42                  N   \n",
       "4         2  2015-09-01 00:00:14   2015-09-01 00:04:20                  N   \n",
       "\n",
       "   RateCodeID  Pickup_longitude  Pickup_latitude  Dropoff_longitude  \\\n",
       "0           5        -73.979485        40.684956         -73.979431   \n",
       "1           5        -74.010796        40.912216         -74.010780   \n",
       "2           1        -73.921410        40.766708         -73.914413   \n",
       "3           1        -73.921387        40.766678         -73.931427   \n",
       "4           1        -73.955482        40.714046         -73.944412   \n",
       "\n",
       "   Dropoff_latitude  Passenger_count     ...      Fare_amount  Extra  MTA_tax  \\\n",
       "0         40.685020                1     ...              7.8    0.0      0.0   \n",
       "1         40.912212                1     ...             45.0    0.0      0.0   \n",
       "2         40.764687                1     ...              4.0    0.5      0.5   \n",
       "3         40.771584                1     ...              5.0    0.5      0.5   \n",
       "4         40.714729                1     ...              5.0    0.5      0.5   \n",
       "\n",
       "   Tip_amount  Tolls_amount  Ehail_fee  improvement_surcharge  Total_amount  \\\n",
       "0        1.95           0.0        NaN                    0.0          9.75   \n",
       "1        0.00           0.0        NaN                    0.0         45.00   \n",
       "2        0.50           0.0        NaN                    0.3          5.80   \n",
       "3        0.00           0.0        NaN                    0.3          6.30   \n",
       "4        0.00           0.0        NaN                    0.3          6.30   \n",
       "\n",
       "   Payment_type  Trip_type   \n",
       "0             1         2.0  \n",
       "1             1         2.0  \n",
       "2             1         1.0  \n",
       "3             2         1.0  \n",
       "4             2         1.0  \n",
       "\n",
       "[5 rows x 21 columns]"
      ]
     },
     "execution_count": 168,
     "metadata": {},
     "output_type": "execute_result"
    }
   ],
   "source": [
    "def downloadData(CSV_DATA_URL, DEST_FILENAME):\n",
    "    \"\"\"\n",
    "    Function to download the file from the internet and save on to the disk\n",
    "    \n",
    "    :param CSV_DATA_URL  : URL of CSV file we want to download\n",
    "    :param dest_filename : Destination path to save the downloaded file on to disk\n",
    "    :return              : None\n",
    "    \"\"\"\n",
    "    if not os.path.exists(DEST_FILENAME):\n",
    "        print (\"Downloading file. . .\")\n",
    "        filename, _ = urlretrieve(CSV_DATA_URL, DEST_FILENAME)\n",
    "        print (\"Download Complete. File at {0}\".format(DEST_FILENAME))\n",
    "    else: \n",
    "        print (\"File already present at {0}\".format(DEST_FILENAME))\n",
    "\n",
    "# calling the downloadData function\n",
    "downloadData(CSV_DATA_URL, DEST_FILENAME)\n",
    "\n",
    "# Reading csv file into pandas dataFrame\n",
    "df = pd.read_csv(DEST_FILENAME)\n",
    "print (\"\\nSample of the data : \")\n",
    "df.head()"
   ]
  },
  {
   "cell_type": "markdown",
   "metadata": {},
   "source": [
    "After having loaded the csv file on to memory as pandas dataframe, let us proceed to further analysis of the dataset"
   ]
  },
  {
   "cell_type": "markdown",
   "metadata": {
    "collapsed": true
   },
   "source": [
    "## 1) No. of rows and columns in the dataset"
   ]
  },
  {
   "cell_type": "code",
   "execution_count": 20,
   "metadata": {},
   "outputs": [
    {
     "name": "stdout",
     "output_type": "stream",
     "text": [
      "Dataset contains : 1494926 number of rows and 21 number of columns\n"
     ]
    }
   ],
   "source": [
    "print (\"Dataset contains : {0} number of rows and {1} number of columns\".format(len(df), len(df.columns)))"
   ]
  },
  {
   "cell_type": "markdown",
   "metadata": {},
   "source": [
    "## 2) Analysis of Trip_distance by green taxis\n",
    "\n",
    "Let us start with exploration of the summary of 'Trip_distance' column, i.e. the trips mean distance, max distance, and quartiles. This will give us the idea about the distibution pattern the data is following"
   ]
  },
  {
   "cell_type": "code",
   "execution_count": 176,
   "metadata": {
    "scrolled": true
   },
   "outputs": [
    {
     "name": "stdout",
     "output_type": "stream",
     "text": [
      "Trip_distance metrics : \n"
     ]
    },
    {
     "data": {
      "text/plain": [
       "count    1.494926e+06\n",
       "mean     2.968141e+00\n",
       "std      3.076621e+00\n",
       "min      0.000000e+00\n",
       "25%      1.100000e+00\n",
       "50%      1.980000e+00\n",
       "75%      3.740000e+00\n",
       "max      6.031000e+02\n",
       "Name: Trip_distance, dtype: float64"
      ]
     },
     "execution_count": 176,
     "metadata": {},
     "output_type": "execute_result"
    }
   ],
   "source": [
    "# get the mean, standard_deviation, max and quartiles about the Trip_distance made by green taxis\n",
    "print (\"Trip_distance metrics : \")\n",
    "df[TRIP_DISTANCE_COLUMN].describe()"
   ]
  },
  {
   "cell_type": "markdown",
   "metadata": {},
   "source": [
    "The above statistical exploration suggests that out of $1,494,926$ trips made by the green taxis, majority made short trips: average distance per trip, $\\mu $ being $ = 2.97 $ miles. However we also have a taxi that made a trip for $603$ miles (Wao! thats a lot. May be it was going out of state, or may be reading meter was damaged. This needs further analysis). This outlier point might distort our histogram we propose to build.\n",
    "\n",
    "The standard deviation value, $ \\sigma = 3.07$ miles suggests that, the data might be skewed (or it may also be because of the outlier point in our data. Needs data cleaning and further analysis)\n",
    "\n",
    "Let us plot the <strong> histogram of Trip_distance</strong> to get the better idea. We will use the logScale for plotting because of disparate Trip_distance by green taxis"
   ]
  },
  {
   "cell_type": "code",
   "execution_count": 179,
   "metadata": {},
   "outputs": [
    {
     "data": {
      "image/png": "[encoded data removed]",
      "text/plain": [
       "<matplotlib.figure.Figure at 0x7fb7708cdcf8>"
      ]
     },
     "metadata": {},
     "output_type": "display_data"
    }
   ],
   "source": [
    "%matplotlib inline\n",
    "def plotHist(trip_distance, xlabel, ylabel, title, showMu=True):\n",
    "    \"\"\"\n",
    "    Function to plot histogram of Trip_distance by green taxis\n",
    "    \n",
    "    :param trip_distance : A pandas series of float values\n",
    "    :param xlabel        : String. xlabel for the plot\n",
    "    :param ylabel        : String. ylabel for the plot\n",
    "    :param title         : String. This variable sets the title of the plot\n",
    "    :param showMu        : Boolean. This tells the function whether to show mean value on the plot or not.\n",
    "    :return              : None\n",
    "    \"\"\"    \n",
    "    mean = \"%.4f\"%trip_distance.mean()\n",
    "    std_dev = \"%.4f\"%trip_distance.std()\n",
    "    plt.figure(figsize=(10,5))\n",
    "    plt.yscale(\"log\")\n",
    "    plt.xlabel(\"{0}\".format(xlabel))\n",
    "    plt.ylabel(\"{0}\".format(ylabel))\n",
    "    plt.title(\"{0}\".format(title))\n",
    "    plt.hist(trip_distance, 50, alpha = 0.9,range=(0,250))\n",
    "    if showMu:\n",
    "        plt.text(100, 10**4, r'$\\mu = {0}$'.format(mean))\n",
    "        plt.text(130, 10**4, r'$\\sigma = {0}$'.format(std_dev))\n",
    "    plt.grid(True)\n",
    "    plt.show()\n",
    "    \n",
    "plotHist(df[TRIP_DISTANCE_COLUMN], X_LABEL_HIST, Y_LABEL_HIST, TITLE_HIST)"
   ]
  },
  {
   "cell_type": "markdown",
   "metadata": {},
   "source": [
    "Our assumption was correct. The data is skewed. Its skewed towards right. This suggests that <strong>commuters tends to hire taxis for wide range of distances</strong>. There are exceptions when taxis make trip for distance > 200 miles. \n",
    "\n",
    "The varied range of distance trip by the green taxi in new york might be because:\n",
    "\n",
    "* Short Distances (0-10 miles)  : Commuters are commuting to their offices or the nearest metro station or friends/relative's home or even to various landmarks (New York being cultural capital of the world)\n",
    "* Long Distances (10-100 miles) : Commuters are commuting to get away places in New Jersey or hiking places near to  NYC. The relative less no. of long distance trips compared to short ones may also be attributed to the fact the people prefer metros/buses/private transport for commuting than taxis.\n",
    "\n",
    "The histogram of Trip_distance does give us a brief idea of how commuters are using Green Taxis for commute. We also made some interesting hypothesis. To dig deeper and find out how much of it is true, let us analyze Trip_distance grouped by hour of the day and how many of the trips end up at Airport"
   ]
  },
  {
   "cell_type": "markdown",
   "metadata": {},
   "source": [
    "## 3) Trip_distance by the hour of the day"
   ]
  },
  {
   "cell_type": "code",
   "execution_count": 174,
   "metadata": {},
   "outputs": [],
   "source": [
    "def getTripDistByHour(df, timeColumn, targetColumn):\n",
    "    \"\"\"\n",
    "    Function computes and return the mean and median of Trip_distance grouped by the hour\n",
    "    \n",
    "    :param df          : pandas dataframe\n",
    "    :param timeColumn  : String. Column name of dataframe which contains date-time value. May be string type or\n",
    "                         Datetime time\n",
    "    :param targetColumn: String. Trip_distance column name in dataFrame\n",
    "    :return            : panda Series of mean and median of targetColumn grouped by hour of timeColumn\n",
    "    \"\"\"\n",
    "    timeStampColumn = pd.DatetimeIndex(df[timeColumn])\n",
    "    meanGrp = df.groupby([timeStampColumn.hour])[targetColumn].mean()\n",
    "    medianGrp = df.groupby([timeStampColumn.hour])[targetColumn].median()\n",
    "    \n",
    "    return meanGrp, medianGrp\n",
    "\n",
    "meanGrp, medianGrp = getTripDistByHour(df, PICKUP_TIME_COLUMN, TRIP_DISTANCE_COLUMN)"
   ]
  },
  {
   "cell_type": "markdown",
   "metadata": {},
   "source": [
    "The function returned us the mean and median Trip_distances by the green taxi grouped by the day. \n",
    "\n",
    "Let us have a look at them side by side for better comparision"
   ]
  },
  {
   "cell_type": "code",
   "execution_count": 235,
   "metadata": {},
   "outputs": [
    {
     "data": {
      "text/html": [
       "<div>\n",
       "<style>\n",
       "    .dataframe thead tr:only-child th {\n",
       "        text-align: right;\n",
       "    }\n",
       "\n",
       "    .dataframe thead th {\n",
       "        text-align: left;\n",
       "    }\n",
       "\n",
       "    .dataframe tbody tr th {\n",
       "        vertical-align: top;\n",
       "    }\n",
       "</style>\n",
       "<table border=\"1\" class=\"dataframe\">\n",
       "  <thead>\n",
       "    <tr style=\"text-align: right;\">\n",
       "      <th></th>\n",
       "      <th>meanTripDistByHour</th>\n",
       "      <th>medianTripDistByHour</th>\n",
       "    </tr>\n",
       "  </thead>\n",
       "  <tbody>\n",
       "    <tr>\n",
       "      <th>0</th>\n",
       "      <td>3.115276</td>\n",
       "      <td>2.20</td>\n",
       "    </tr>\n",
       "    <tr>\n",
       "      <th>1</th>\n",
       "      <td>3.017347</td>\n",
       "      <td>2.12</td>\n",
       "    </tr>\n",
       "    <tr>\n",
       "      <th>2</th>\n",
       "      <td>3.046176</td>\n",
       "      <td>2.14</td>\n",
       "    </tr>\n",
       "    <tr>\n",
       "      <th>3</th>\n",
       "      <td>3.212945</td>\n",
       "      <td>2.20</td>\n",
       "    </tr>\n",
       "    <tr>\n",
       "      <th>4</th>\n",
       "      <td>3.526555</td>\n",
       "      <td>2.36</td>\n",
       "    </tr>\n",
       "    <tr>\n",
       "      <th>5</th>\n",
       "      <td>4.133474</td>\n",
       "      <td>2.90</td>\n",
       "    </tr>\n",
       "    <tr>\n",
       "      <th>6</th>\n",
       "      <td>4.055149</td>\n",
       "      <td>2.84</td>\n",
       "    </tr>\n",
       "    <tr>\n",
       "      <th>7</th>\n",
       "      <td>3.284394</td>\n",
       "      <td>2.17</td>\n",
       "    </tr>\n",
       "    <tr>\n",
       "      <th>8</th>\n",
       "      <td>3.048450</td>\n",
       "      <td>1.98</td>\n",
       "    </tr>\n",
       "    <tr>\n",
       "      <th>9</th>\n",
       "      <td>2.999105</td>\n",
       "      <td>1.96</td>\n",
       "    </tr>\n",
       "    <tr>\n",
       "      <th>10</th>\n",
       "      <td>2.944482</td>\n",
       "      <td>1.92</td>\n",
       "    </tr>\n",
       "    <tr>\n",
       "      <th>11</th>\n",
       "      <td>2.912015</td>\n",
       "      <td>1.88</td>\n",
       "    </tr>\n",
       "    <tr>\n",
       "      <th>12</th>\n",
       "      <td>2.903065</td>\n",
       "      <td>1.89</td>\n",
       "    </tr>\n",
       "    <tr>\n",
       "      <th>13</th>\n",
       "      <td>2.878294</td>\n",
       "      <td>1.84</td>\n",
       "    </tr>\n",
       "    <tr>\n",
       "      <th>14</th>\n",
       "      <td>2.864304</td>\n",
       "      <td>1.83</td>\n",
       "    </tr>\n",
       "    <tr>\n",
       "      <th>15</th>\n",
       "      <td>2.857040</td>\n",
       "      <td>1.81</td>\n",
       "    </tr>\n",
       "    <tr>\n",
       "      <th>16</th>\n",
       "      <td>2.779852</td>\n",
       "      <td>1.80</td>\n",
       "    </tr>\n",
       "    <tr>\n",
       "      <th>17</th>\n",
       "      <td>2.679114</td>\n",
       "      <td>1.78</td>\n",
       "    </tr>\n",
       "    <tr>\n",
       "      <th>18</th>\n",
       "      <td>2.653222</td>\n",
       "      <td>1.80</td>\n",
       "    </tr>\n",
       "    <tr>\n",
       "      <th>19</th>\n",
       "      <td>2.715597</td>\n",
       "      <td>1.85</td>\n",
       "    </tr>\n",
       "    <tr>\n",
       "      <th>20</th>\n",
       "      <td>2.777052</td>\n",
       "      <td>1.90</td>\n",
       "    </tr>\n",
       "    <tr>\n",
       "      <th>21</th>\n",
       "      <td>2.999189</td>\n",
       "      <td>2.03</td>\n",
       "    </tr>\n",
       "    <tr>\n",
       "      <th>22</th>\n",
       "      <td>3.185394</td>\n",
       "      <td>2.20</td>\n",
       "    </tr>\n",
       "    <tr>\n",
       "      <th>23</th>\n",
       "      <td>3.191538</td>\n",
       "      <td>2.22</td>\n",
       "    </tr>\n",
       "  </tbody>\n",
       "</table>\n",
       "</div>"
      ],
      "text/plain": [
       "    meanTripDistByHour  medianTripDistByHour\n",
       "0             3.115276                  2.20\n",
       "1             3.017347                  2.12\n",
       "2             3.046176                  2.14\n",
       "3             3.212945                  2.20\n",
       "4             3.526555                  2.36\n",
       "5             4.133474                  2.90\n",
       "6             4.055149                  2.84\n",
       "7             3.284394                  2.17\n",
       "8             3.048450                  1.98\n",
       "9             2.999105                  1.96\n",
       "10            2.944482                  1.92\n",
       "11            2.912015                  1.88\n",
       "12            2.903065                  1.89\n",
       "13            2.878294                  1.84\n",
       "14            2.864304                  1.83\n",
       "15            2.857040                  1.81\n",
       "16            2.779852                  1.80\n",
       "17            2.679114                  1.78\n",
       "18            2.653222                  1.80\n",
       "19            2.715597                  1.85\n",
       "20            2.777052                  1.90\n",
       "21            2.999189                  2.03\n",
       "22            3.185394                  2.20\n",
       "23            3.191538                  2.22"
      ]
     },
     "execution_count": 235,
     "metadata": {},
     "output_type": "execute_result"
    }
   ],
   "source": [
    "def getCombinedMeanMedianTripDist(meanGrp, medianGrp):\n",
    "    \"\"\"\n",
    "    Function displays the value of meanGrp and medianGrp onto screen side by side\n",
    "    :param meanGrp  : panda Series. Series of mean Trip_distance grouped by hour\n",
    "    :param medianGrp: panda Series. Series of median Trip_distance grouped by hour\n",
    "    :return         : panda dataframe : A dataframe with meanGrp and medianGrp as its column\n",
    "    \"\"\"    \n",
    "    dfMeanMedian = pd.DataFrame()\n",
    "    dfMeanMedian[MEAN_TRIP_DISTANCE_BY_HOUR] = meanGrp\n",
    "    dfMeanMedian[MEDIAN_TRIP_DISTANCE_BY_HOUR] = medianGrp\n",
    "    dfMeanMedian.reset_index(inplace=True)\n",
    "    dfMeanMedian.drop(PICKUP_TIME_COLUMN, axis = 1, inplace=True)\n",
    "    return dfMeanMedian\n",
    "    \n",
    "dfCombinedMeanMedian = getCombinedMeanMedianTripDist(meanGrp, medianGrp)\n",
    "dfCombinedMeanMedian"
   ]
  },
  {
   "cell_type": "markdown",
   "metadata": {},
   "source": [
    "The above dataframe shows there seems to be a spike in average and median Trip_distance during 5-6 am. For a better look, lets plot the mean and median values below : "
   ]
  },
  {
   "cell_type": "code",
   "execution_count": 255,
   "metadata": {},
   "outputs": [
    {
     "data": {
      "image/png": "[encoded data removed]",
      "text/plain": [
       "<matplotlib.figure.Figure at 0x7fb74e6dbf98>"
      ]
     },
     "metadata": {},
     "output_type": "display_data"
    }
   ],
   "source": [
    "#plotting dataFrame\n",
    "def plotMeanMedianDF(dfCombinedMeanMedian, title, xlabel, ylabel):\n",
    "    \"\"\"\n",
    "    Function plots df\n",
    "    :param dfCombinedMeanMedian : pandas dataFrame\n",
    "    :param title : String. Title for the plot\n",
    "    :param xlabel: String. xlabel for the plot\n",
    "    :param ylabel: String. ylabel for the plot\n",
    "    :return      : None\n",
    "    \"\"\"\n",
    "    plot = dfCombinedMeanMedian.plot(figsize=(10,5), title=title,grid=True)\n",
    "    plot.set_xlabel(xlabel)\n",
    "    plot.set_ylabel(ylabel)\n",
    "    plt.show()\n",
    "    \n",
    "plotMeanMedianDF(dfCombinedMeanMedian, MEAN_MEDIAN_OF_TITLE, MEAN_MEDIAN_OF_XLabel, MEAN_MEDIAN_OF_YLabel)"
   ]
  },
  {
   "cell_type": "markdown",
   "metadata": {},
   "source": [
    "The median tends to follow the mean Trip_distance and there is for sure a spike in distance travelled by green taxis duing morning. One of the reasons can be people travelling to the offices to start their day or people travelling from airport to their home and offices.\n",
    "\n",
    "To check our hypothesis related to Trip_distance from Airports during 5-6 am, lets analyze the data for the trip made from JFK (one of the world bussiest airport)\n",
    "\n",
    "The 'RateCodeID' of '2' in out dataFrame will help provide us the information for trips related to JFK. Let us have a look."
   ]
  },
  {
   "cell_type": "markdown",
   "metadata": {},
   "source": [
    "## 3b) Rides To-From JFK Airport"
   ]
  },
  {
   "cell_type": "code",
   "execution_count": 256,
   "metadata": {},
   "outputs": [
    {
     "name": "stdout",
     "output_type": "stream",
     "text": [
      "Plot of Trip_distance for rides related to JFK\n"
     ]
    },
    {
     "data": {
      "image/png": "[encoded data removed]",
      "text/plain": [
       "<matplotlib.figure.Figure at 0x7fb74e85a5c0>"
      ]
     },
     "metadata": {},
     "output_type": "display_data"
    }
   ],
   "source": [
    "# Extracting information for rides related to JFK\n",
    "dfAirport = df[df[RateCodeID]==2]\n",
    "meanGrpFiltered, medianGrpFiltered = getTripDistByHour(dfAirport, PICKUP_TIME_COLUMN, TRIP_DISTANCE_COLUMN)\n",
    "dfCombinedMeanMedianFiltered = getCombinedMeanMedianTripDist(meanGrpFiltered, medianGrpFiltered)\n",
    "print(\"Plot of Trip_distance for rides related to JFK\")\n",
    "plotMeanMedianDF(dfCombinedMeanMedianFiltered, TITLE_MEAN_MEDIAN, XLabel_MEAN_MEDIAN, YLabel_MEAN_MEDIAN)"
   ]
  },
  {
   "cell_type": "markdown",
   "metadata": {},
   "source": [
    "Aha ! The above plot depicting Trip_distance related to JFK shows increases in rides from 4am - 6pm with the highest being at 5 am in the morning. This might approve of our hypothesis that, it is because of the folks travelling to-from JFK in the morning (5 am - 6am) that total Trip_distance by green taxis surges.\n",
    "\n",
    "* Interesting Point : Trip_distance related to JFK around 12:00 am in the morning are very low. It might suggest that the density of flight landing and taking off from JFK is low during this period. This may also be incorrect because we are only looking at data for Sept 2015 which might cause a bias in the result. A deeper analysis is needed. Inspite of this, its an interesting point to note.\n",
    "\n",
    "Let us also look at the NUMBER of these trips related to JFK. Is this number that great to affect the overall increase in Trip_distance during 5 am - 6 am ?"
   ]
  },
  {
   "cell_type": "code",
   "execution_count": 254,
   "metadata": {},
   "outputs": [
    {
     "name": "stdout",
     "output_type": "stream",
     "text": [
      "No. of rides originating or terminating at JFK : 4435\n"
     ]
    }
   ],
   "source": [
    "print(\"No. of rides originating or terminating at JFK : {0}\".format(len(dfAirport)))"
   ]
  },
  {
   "cell_type": "markdown",
   "metadata": {},
   "source": [
    "<strong> 4435 </strong> number of rides related to JFK does not seem to be that great to affect the total increase in Trip_distance. That means, there are other factors that is making the Trip_distance increase during 5 am - 6 am.\n",
    "\n",
    "Let us also take a look at the average fair generated from the trips related to JFK and compare them with trips not related to JFK"
   ]
  },
  {
   "cell_type": "code",
   "execution_count": 284,
   "metadata": {},
   "outputs": [
    {
     "data": {
      "text/plain": [
       "217412.0"
      ]
     },
     "execution_count": 284,
     "metadata": {},
     "output_type": "execute_result"
    }
   ],
   "source": [
    "# Slicing df DataFrame for values where df[RateCodeId] != 2\n",
    "dfNonAirport = df.loc[df[RateCodeID]!=2]\n",
    "dfAirport['Fare_amount'].sum()"
   ]
  },
  {
   "cell_type": "code",
   "execution_count": 285,
   "metadata": {},
   "outputs": [
    {
     "data": {
      "text/plain": [
       "18533740.089999992"
      ]
     },
     "execution_count": 285,
     "metadata": {},
     "output_type": "execute_result"
    }
   ],
   "source": [
    "dfNonAirport['Fare_amount'].sum()"
   ]
  },
  {
   "cell_type": "code",
   "execution_count": 286,
   "metadata": {},
   "outputs": [
    {
     "data": {
      "text/plain": [
       "0.011730605854201341"
      ]
     },
     "execution_count": 286,
     "metadata": {},
     "output_type": "execute_result"
    }
   ],
   "source": [
    "dfAirport['Fare_amount'].sum()/dfNonAirport['Fare_amount'].sum()"
   ]
  }
 ],
 "metadata": {
  "kernelspec": {
   "display_name": "Python 3",
   "language": "python",
   "name": "python3"
  },
  "language_info": {
   "codemirror_mode": {
    "name": "ipython",
    "version": 3
   },
   "file_extension": ".py",
   "mimetype": "text/x-python",
   "name": "python",
   "nbconvert_exporter": "python",
   "pygments_lexer": "ipython3",
   "version": "3.5.3"
  }
 },
 "nbformat": 4,
 "nbformat_minor": 2
}
