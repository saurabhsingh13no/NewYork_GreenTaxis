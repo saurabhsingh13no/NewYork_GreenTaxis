{
 "cells": [
  {
   "cell_type": "markdown",
   "metadata": {},
   "source": [
    "<a href= \"http://www.nyc.gov/html/tlc/html/about/trip_record_data.shtml\">\n",
    "    <img src =\"../data/NY_Taxi.png\" height = \"300px\" width = \"300px\" align=\"right\"/>\n",
    "</a>\n",
    "# <center> Exploratory Data Analysis on Green Taxis </center>\n"
   ]
  },
  {
   "cell_type": "markdown",
   "metadata": {},
   "source": [
    "This notebook is an analysis on the data collected by the New York City Taxi and Limousine commission about <strong> \"Green\" </strong> Taxis. Green Taxis (as opposed to yellow ones) are taxis that are not allowed to pick up passengers inside of the densely populated areas of Manhattan\n",
    "\n",
    "The analysis is on the September 2015 dataset. Link to download dataset can be found [here](https://s3.amazonaws.com/nyc-tlc/trip+data/green_tripdata_2015-09.csv)\n",
    "\n",
    "Let's start the analysis by importing the necessary python modules for assitance."
   ]
  },
  {
   "cell_type": "markdown",
   "metadata": {},
   "source": [
    "## Importing libraries for analysis\n",
    "\n",
    "<strong>Note: </strong> Be sure to install these python libraries before importing from PyPI using pip. General command for downloading and installing 'requests' library (for e.g) would be:\n",
    "\n",
    "```shell\n",
    "$ pip install requests\n",
    "```"
   ]
  },
  {
   "cell_type": "code",
   "execution_count": 22,
   "metadata": {
    "collapsed": true
   },
   "outputs": [],
   "source": [
    "import requests # required to download csv file from the URL\n",
    "import pandas as pd # used for data analysis\n",
    "from six.moves.urllib.request import urlretrieve # used for csv file download\n",
    "import os # to check for already existing file on the disk\n",
    "import matplotlib.pyplot as plt # used for plotting histograms and graph"
   ]
  },
  {
   "cell_type": "markdown",
   "metadata": {},
   "source": [
    "## Global Variables\n",
    "\n",
    "Defining some global variables to be used in the code. This technique of centralized decleration for all the variables provides the flexibility of code modulation in future"
   ]
  },
  {
   "cell_type": "code",
   "execution_count": 48,
   "metadata": {
    "collapsed": true
   },
   "outputs": [],
   "source": [
    "CSV_DATA_URL = \"https://s3.amazonaws.com/nyc-tlc/trip+data/green_tripdata_2015-09.csv\"\n",
    "DEST_FILENAME = \"../data/green.csv\"\n",
    "X_LABEL_HIST = \"Distance covered by Green Taxis\"    \n",
    "Y_LABEL_HIST = \"Number of Trips\"\n",
    "TITLE_HIST   = \"Histogram of Trip_distance by Green Taxis\""
   ]
  },
  {
   "cell_type": "markdown",
   "metadata": {},
   "source": [
    "## Downloading the data\n",
    "\n",
    "Downloading the file from the amazon S3. Be sure to check for working internet connection before running the below cell."
   ]
  },
  {
   "cell_type": "code",
   "execution_count": 33,
   "metadata": {},
   "outputs": [
    {
     "name": "stdout",
     "output_type": "stream",
     "text": [
      "File already present at ../data/green.csv\n",
      "\n",
      "Sample of the data : \n"
     ]
    },
    {
     "data": {
      "text/html": [
       "<div>\n",
       "<style>\n",
       "    .dataframe thead tr:only-child th {\n",
       "        text-align: right;\n",
       "    }\n",
       "\n",
       "    .dataframe thead th {\n",
       "        text-align: left;\n",
       "    }\n",
       "\n",
       "    .dataframe tbody tr th {\n",
       "        vertical-align: top;\n",
       "    }\n",
       "</style>\n",
       "<table border=\"1\" class=\"dataframe\">\n",
       "  <thead>\n",
       "    <tr style=\"text-align: right;\">\n",
       "      <th></th>\n",
       "      <th>VendorID</th>\n",
       "      <th>lpep_pickup_datetime</th>\n",
       "      <th>Lpep_dropoff_datetime</th>\n",
       "      <th>Store_and_fwd_flag</th>\n",
       "      <th>RateCodeID</th>\n",
       "      <th>Pickup_longitude</th>\n",
       "      <th>Pickup_latitude</th>\n",
       "      <th>Dropoff_longitude</th>\n",
       "      <th>Dropoff_latitude</th>\n",
       "      <th>Passenger_count</th>\n",
       "      <th>...</th>\n",
       "      <th>Fare_amount</th>\n",
       "      <th>Extra</th>\n",
       "      <th>MTA_tax</th>\n",
       "      <th>Tip_amount</th>\n",
       "      <th>Tolls_amount</th>\n",
       "      <th>Ehail_fee</th>\n",
       "      <th>improvement_surcharge</th>\n",
       "      <th>Total_amount</th>\n",
       "      <th>Payment_type</th>\n",
       "      <th>Trip_type</th>\n",
       "    </tr>\n",
       "  </thead>\n",
       "  <tbody>\n",
       "    <tr>\n",
       "      <th>0</th>\n",
       "      <td>2</td>\n",
       "      <td>2015-09-01 00:02:34</td>\n",
       "      <td>2015-09-01 00:02:38</td>\n",
       "      <td>N</td>\n",
       "      <td>5</td>\n",
       "      <td>-73.979485</td>\n",
       "      <td>40.684956</td>\n",
       "      <td>-73.979431</td>\n",
       "      <td>40.685020</td>\n",
       "      <td>1</td>\n",
       "      <td>...</td>\n",
       "      <td>7.8</td>\n",
       "      <td>0.0</td>\n",
       "      <td>0.0</td>\n",
       "      <td>1.95</td>\n",
       "      <td>0.0</td>\n",
       "      <td>NaN</td>\n",
       "      <td>0.0</td>\n",
       "      <td>9.75</td>\n",
       "      <td>1</td>\n",
       "      <td>2.0</td>\n",
       "    </tr>\n",
       "    <tr>\n",
       "      <th>1</th>\n",
       "      <td>2</td>\n",
       "      <td>2015-09-01 00:04:20</td>\n",
       "      <td>2015-09-01 00:04:24</td>\n",
       "      <td>N</td>\n",
       "      <td>5</td>\n",
       "      <td>-74.010796</td>\n",
       "      <td>40.912216</td>\n",
       "      <td>-74.010780</td>\n",
       "      <td>40.912212</td>\n",
       "      <td>1</td>\n",
       "      <td>...</td>\n",
       "      <td>45.0</td>\n",
       "      <td>0.0</td>\n",
       "      <td>0.0</td>\n",
       "      <td>0.00</td>\n",
       "      <td>0.0</td>\n",
       "      <td>NaN</td>\n",
       "      <td>0.0</td>\n",
       "      <td>45.00</td>\n",
       "      <td>1</td>\n",
       "      <td>2.0</td>\n",
       "    </tr>\n",
       "    <tr>\n",
       "      <th>2</th>\n",
       "      <td>2</td>\n",
       "      <td>2015-09-01 00:01:50</td>\n",
       "      <td>2015-09-01 00:04:24</td>\n",
       "      <td>N</td>\n",
       "      <td>1</td>\n",
       "      <td>-73.921410</td>\n",
       "      <td>40.766708</td>\n",
       "      <td>-73.914413</td>\n",
       "      <td>40.764687</td>\n",
       "      <td>1</td>\n",
       "      <td>...</td>\n",
       "      <td>4.0</td>\n",
       "      <td>0.5</td>\n",
       "      <td>0.5</td>\n",
       "      <td>0.50</td>\n",
       "      <td>0.0</td>\n",
       "      <td>NaN</td>\n",
       "      <td>0.3</td>\n",
       "      <td>5.80</td>\n",
       "      <td>1</td>\n",
       "      <td>1.0</td>\n",
       "    </tr>\n",
       "    <tr>\n",
       "      <th>3</th>\n",
       "      <td>2</td>\n",
       "      <td>2015-09-01 00:02:36</td>\n",
       "      <td>2015-09-01 00:06:42</td>\n",
       "      <td>N</td>\n",
       "      <td>1</td>\n",
       "      <td>-73.921387</td>\n",
       "      <td>40.766678</td>\n",
       "      <td>-73.931427</td>\n",
       "      <td>40.771584</td>\n",
       "      <td>1</td>\n",
       "      <td>...</td>\n",
       "      <td>5.0</td>\n",
       "      <td>0.5</td>\n",
       "      <td>0.5</td>\n",
       "      <td>0.00</td>\n",
       "      <td>0.0</td>\n",
       "      <td>NaN</td>\n",
       "      <td>0.3</td>\n",
       "      <td>6.30</td>\n",
       "      <td>2</td>\n",
       "      <td>1.0</td>\n",
       "    </tr>\n",
       "    <tr>\n",
       "      <th>4</th>\n",
       "      <td>2</td>\n",
       "      <td>2015-09-01 00:00:14</td>\n",
       "      <td>2015-09-01 00:04:20</td>\n",
       "      <td>N</td>\n",
       "      <td>1</td>\n",
       "      <td>-73.955482</td>\n",
       "      <td>40.714046</td>\n",
       "      <td>-73.944412</td>\n",
       "      <td>40.714729</td>\n",
       "      <td>1</td>\n",
       "      <td>...</td>\n",
       "      <td>5.0</td>\n",
       "      <td>0.5</td>\n",
       "      <td>0.5</td>\n",
       "      <td>0.00</td>\n",
       "      <td>0.0</td>\n",
       "      <td>NaN</td>\n",
       "      <td>0.3</td>\n",
       "      <td>6.30</td>\n",
       "      <td>2</td>\n",
       "      <td>1.0</td>\n",
       "    </tr>\n",
       "  </tbody>\n",
       "</table>\n",
       "<p>5 rows × 21 columns</p>\n",
       "</div>"
      ],
      "text/plain": [
       "   VendorID lpep_pickup_datetime Lpep_dropoff_datetime Store_and_fwd_flag  \\\n",
       "0         2  2015-09-01 00:02:34   2015-09-01 00:02:38                  N   \n",
       "1         2  2015-09-01 00:04:20   2015-09-01 00:04:24                  N   \n",
       "2         2  2015-09-01 00:01:50   2015-09-01 00:04:24                  N   \n",
       "3         2  2015-09-01 00:02:36   2015-09-01 00:06:42                  N   \n",
       "4         2  2015-09-01 00:00:14   2015-09-01 00:04:20                  N   \n",
       "\n",
       "   RateCodeID  Pickup_longitude  Pickup_latitude  Dropoff_longitude  \\\n",
       "0           5        -73.979485        40.684956         -73.979431   \n",
       "1           5        -74.010796        40.912216         -74.010780   \n",
       "2           1        -73.921410        40.766708         -73.914413   \n",
       "3           1        -73.921387        40.766678         -73.931427   \n",
       "4           1        -73.955482        40.714046         -73.944412   \n",
       "\n",
       "   Dropoff_latitude  Passenger_count     ...      Fare_amount  Extra  MTA_tax  \\\n",
       "0         40.685020                1     ...              7.8    0.0      0.0   \n",
       "1         40.912212                1     ...             45.0    0.0      0.0   \n",
       "2         40.764687                1     ...              4.0    0.5      0.5   \n",
       "3         40.771584                1     ...              5.0    0.5      0.5   \n",
       "4         40.714729                1     ...              5.0    0.5      0.5   \n",
       "\n",
       "   Tip_amount  Tolls_amount  Ehail_fee  improvement_surcharge  Total_amount  \\\n",
       "0        1.95           0.0        NaN                    0.0          9.75   \n",
       "1        0.00           0.0        NaN                    0.0         45.00   \n",
       "2        0.50           0.0        NaN                    0.3          5.80   \n",
       "3        0.00           0.0        NaN                    0.3          6.30   \n",
       "4        0.00           0.0        NaN                    0.3          6.30   \n",
       "\n",
       "   Payment_type  Trip_type   \n",
       "0             1         2.0  \n",
       "1             1         2.0  \n",
       "2             1         1.0  \n",
       "3             2         1.0  \n",
       "4             2         1.0  \n",
       "\n",
       "[5 rows x 21 columns]"
      ]
     },
     "execution_count": 33,
     "metadata": {},
     "output_type": "execute_result"
    }
   ],
   "source": [
    "def downloadData(CSV_DATA_URL, DEST_FILENAME):\n",
    "    \"\"\"\n",
    "    Function to download the file from the internet and save on to the disk\n",
    "    \n",
    "    :param CSV_DATA_URL  : URL of CSV file we want to download\n",
    "    :param dest_filename : Destination path to save the downloaded file on to disk\n",
    "    :return              : None\n",
    "    \"\"\"\n",
    "    if not os.path.exists(DEST_FILENAME):\n",
    "        print (\"Downloading file. . .\")\n",
    "        filename, _ = urlretrieve(CSV_DATA_URL, DEST_FILENAME)\n",
    "        print (\"Download Complete. File at {0}\".format(DEST_FILENAME))\n",
    "    else: \n",
    "        print (\"File already present at {0}\".format(DEST_FILENAME))\n",
    "\n",
    "# calling the downloadData function\n",
    "downloadData(CSV_DATA_URL, DEST_FILENAME)\n",
    "\n",
    "# Reading csv file into pandas dataFrame\n",
    "df = pd.read_csv(DEST_FILENAME)\n",
    "print (\"\\nSample of the data : \")\n",
    "df.head()"
   ]
  },
  {
   "cell_type": "markdown",
   "metadata": {},
   "source": [
    "After having loaded the csv file on to memory as pandas dataframe, let us proceed to further analysis of the dataset"
   ]
  },
  {
   "cell_type": "markdown",
   "metadata": {
    "collapsed": true
   },
   "source": [
    "## 1) No. of rows and columns in the dataset"
   ]
  },
  {
   "cell_type": "code",
   "execution_count": 20,
   "metadata": {},
   "outputs": [
    {
     "name": "stdout",
     "output_type": "stream",
     "text": [
      "Dataset contains : 1494926 number of rows and 21 number of columns\n"
     ]
    }
   ],
   "source": [
    "print (\"Dataset contains : {0} number of rows and {1} number of columns\".format(len(df), len(df.columns)))"
   ]
  },
  {
   "cell_type": "markdown",
   "metadata": {},
   "source": [
    "## 2) Analysis of Trip_distance by green taxis\n",
    "\n",
    "Let us start with exploration of the summary of 'Trip_distance' column, i.e. the trips mean distance, max distance, and quartiles. This will give us the idea about the distibution pattern the data is following"
   ]
  },
  {
   "cell_type": "code",
   "execution_count": 34,
   "metadata": {
    "scrolled": true
   },
   "outputs": [
    {
     "data": {
      "text/plain": [
       "count    1.494926e+06\n",
       "mean     2.968141e+00\n",
       "std      3.076621e+00\n",
       "min      0.000000e+00\n",
       "25%      1.100000e+00\n",
       "50%      1.980000e+00\n",
       "75%      3.740000e+00\n",
       "max      6.031000e+02\n",
       "Name: Trip_distance, dtype: float64"
      ]
     },
     "execution_count": 34,
     "metadata": {},
     "output_type": "execute_result"
    }
   ],
   "source": [
    "# get the mean, standard_deviation, max and quartiles about the Trip_distance made by green taxis\n",
    "df['Trip_distance'].describe()"
   ]
  },
  {
   "cell_type": "markdown",
   "metadata": {},
   "source": [
    "The above statistical exploration suggests that out of $1,494,926$ trips made by the green taxis, majority made short trips: average distance per trip, $\\mu $ being $ = 2.97 $ miles. However we also have a taxi that made a trip for $603$ miles (Wao! thats a lot. May be it was going out of state, or may be reading meter was damaged. This needs further analysis). This outlier point might distort our histogram we propose to build.\n",
    "\n",
    "The standard deviation value, $ \\sigma = 3.07$ miles suggests that, the data might be skewed (or it may also be because of the outlier point in our data. Needs data cleaning and further analysis)\n",
    "\n"
   ]
  },
  {
   "cell_type": "code",
   "execution_count": 52,
   "metadata": {},
   "outputs": [
    {
     "data": {
      "image/png": "[encoded data removed]",
      "text/plain": [
       "<matplotlib.figure.Figure at 0x7fb782f11358>"
      ]
     },
     "metadata": {},
     "output_type": "display_data"
    }
   ],
   "source": [
    "%matplotlib inline\n",
    "def plotHist(trip_distance, xlabel, ylabel, title, showMu=True):\n",
    "    \"\"\"\n",
    "    Function to plot histogram of Trip_distance by green taxis\n",
    "    \n",
    "    :param trip_distance : A pandas series of float values\n",
    "    :param title         : String. This variable sets the title of the plot\n",
    "    :param showMu        : Boolean. This tells the function whether to show mean value on the plot or not.\n",
    "    :return              : None\n",
    "    \"\"\"    \n",
    "    mean = \"%.4f\"%trip_distance.mean()\n",
    "    std_dev = \"%.4f\"%trip_distance.std()\n",
    "    plt.figure(figsize=(10,5))\n",
    "    plt.yscale(\"log\")\n",
    "    plt.xlabel(\"{0}\".format(xlabel))\n",
    "    plt.ylabel(\"{0}\".format(ylabel))\n",
    "    plt.title(\"{0}\".format(title))\n",
    "    plt.hist(trip_distance, 50, alpha = 0.9,range=(0,250))\n",
    "    if showMu:\n",
    "        plt.text(100, 10**4, r'$\\mu = {0}$'.format(mean))\n",
    "        plt.text(130, 10**4, r'$\\sigma = {0}$'.format(std_dev))\n",
    "    plt.grid(True)\n",
    "    plt.show()\n",
    "    \n",
    "plotHist(df['Trip_distance'], X_LABEL_HIST, Y_LABEL_HIST, TITLE_HIST)"
   ]
  },
  {
   "cell_type": "markdown",
   "metadata": {},
   "source": [
    "Our assumption was correct. The data is skewed. Its skewed towards right. This suggests that <strong>commuters tends to hire taxis for wide range of distances</strong>. There are exceptions when taxis make trip for distance > 200 miles. \n",
    "\n",
    "The varied range of distance trip by the green taxi in new york might be because:\n",
    "    * Commuters at the periphery of he New York City tends to commute to places like offices, residential homes in "
   ]
  },
  {
   "cell_type": "code",
   "execution_count": 35,
   "metadata": {},
   "outputs": [
    {
     "data": {
      "text/plain": [
       "2.9681408511190512"
      ]
     },
     "execution_count": 35,
     "metadata": {},
     "output_type": "execute_result"
    }
   ],
   "source": [
    "df['Trip_distance'].mean()"
   ]
  }
 ],
 "metadata": {
  "kernelspec": {
   "display_name": "Python 3",
   "language": "python",
   "name": "python3"
  },
  "language_info": {
   "codemirror_mode": {
    "name": "ipython",
    "version": 3
   },
   "file_extension": ".py",
   "mimetype": "text/x-python",
   "name": "python",
   "nbconvert_exporter": "python",
   "pygments_lexer": "ipython3",
   "version": "3.5.3"
  }
 },
 "nbformat": 4,
 "nbformat_minor": 2
}
