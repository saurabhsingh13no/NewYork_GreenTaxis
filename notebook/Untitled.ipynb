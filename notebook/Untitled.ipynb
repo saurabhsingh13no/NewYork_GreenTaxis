{
 "cells": [
  {
   "cell_type": "markdown",
   "metadata": {},
   "source": [
    "<a href= \"http://www.nyc.gov/html/tlc/html/about/trip_record_data.shtml\">\n",
    "    <img src =\"../data/NY_Taxi.png\" height = \"300px\" width = \"300px\" align=\"right\"/>\n",
    "</a>\n",
    "# <center> Exploratory Data Analysis on Green Taxis </center>\n"
   ]
  },
  {
   "cell_type": "markdown",
   "metadata": {},
   "source": [
    "This notebook is an analysis on the data collected by the New York City Taxi and Limousine commission about <strong> \"Green\" </strong> Taxis. Green Taxis (as opposed to yellow ones) are taxis that are not allowed to pick up passengers inside of the densely populated areas of Manhattan"
   ]
  },
  {
   "cell_type": "code",
   "execution_count": null,
   "metadata": {
    "collapsed": true
   },
   "outputs": [],
   "source": []
  }
 ],
 "metadata": {
  "kernelspec": {
   "display_name": "Python 3",
   "language": "python",
   "name": "python3"
  },
  "language_info": {
   "codemirror_mode": {
    "name": "ipython",
    "version": 3
   },
   "file_extension": ".py",
   "mimetype": "text/x-python",
   "name": "python",
   "nbconvert_exporter": "python",
   "pygments_lexer": "ipython3",
   "version": "3.5.3"
  }
 },
 "nbformat": 4,
 "nbformat_minor": 2
}
